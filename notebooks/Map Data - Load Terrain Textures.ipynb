{
 "cells": [
  {
   "cell_type": "markdown",
   "metadata": {},
   "source": [
    "# Loading terrain features\n",
    "Maps are generated randomly,however attributes are described via a spreadsheet. \n",
    "https://docs.google.com/spreadsheets/d/1E1y6QdK3IhzzoEjvlLrc81D0_3qJxtYZpoouhvit4RI/edit?usp=sharing\n",
    "\n",
    "**These are the key attribute tables**<br>\n",
    "* **T**errain **D**etail (ddf) = Information for each area. Which features, which monsters, the probability of what events. \n",
    "* **T**errain **I**tems** D**ata **F**rame (TIDF) = Properties of a terrain feature, its color, how it is rendered, and what happens when the user interacts with that object\n",
    "* **B**estiary (bdf) = properties of creatures, general stats and attach methods. "
   ]
  },
  {
   "cell_type": "code",
   "execution_count": 17,
   "metadata": {
    "collapsed": true
   },
   "outputs": [],
   "source": [
    "import pandas as pd\n",
    "import numpy as np\n",
    "import boto\n",
    "import yaml"
   ]
  },
  {
   "cell_type": "code",
   "execution_count": 18,
   "metadata": {
    "collapsed": false
   },
   "outputs": [
    {
     "data": {
      "text/plain": [
       "<Key: flaskgame,maps/william.jeffrey.harding@gmail.comterrainMap.json>"
      ]
     },
     "execution_count": 18,
     "metadata": {},
     "output_type": "execute_result"
    }
   ],
   "source": [
    "from boto.s3.connection import S3Connection\n",
    "\n",
    "myKeys = yaml.load(open('/home/billmanh/Downloads/Key_file', 'r'))\n",
    "AWSSecretKey=myKeys['AWSSecretKey']\n",
    "AWSAccessKeyId=myKeys['AWSAccessKeyId']\n",
    "conn = S3Connection(AWSAccessKeyId, AWSSecretKey)\n",
    "mybucket = conn.get_bucket('flaskgame')\n",
    "\n",
    "myKey = mybucket.get_key(\"maps/william.jeffrey.harding@gmail.comterrainMap.json\")\n",
    "myKey"
   ]
  },
  {
   "cell_type": "markdown",
   "metadata": {},
   "source": [
    "# Loading terrain data and manipulating locally"
   ]
  },
  {
   "cell_type": "markdown",
   "metadata": {},
   "source": [
    "Loading data from TSV files and prepping them for import to boto"
   ]
  },
  {
   "cell_type": "code",
   "execution_count": 19,
   "metadata": {
    "collapsed": false
   },
   "outputs": [],
   "source": [
    "ddf = pd.read_csv(\"/home/billmanh/Downloads/Play/Flask RPG/Flask RPG - Terrain Detail.tsv\",sep=\"\\t\",index_col=0)\n",
    "tidf = pd.read_csv(\"/home/billmanh/Downloads/Play/Flask RPG/Flask RPG - Terrain Items.tsv\",sep=\"\\t\",index_col=0)\n",
    "bdf = pd.read_csv(\"/home/billmanh/Downloads/Play/Flask RPG/Flask RPG - Bestiary.tsv\",sep=\"\\t\",index_col=0)"
   ]
  },
  {
   "cell_type": "code",
   "execution_count": 20,
   "metadata": {
    "collapsed": false
   },
   "outputs": [
    {
     "name": "stdout",
     "output_type": "stream",
     "text": [
      "dict_keys(['fo', 'sw', 'mt', 'sa', 'pl', 'ds', 'ic', 'oa'])\n",
      "{'Type Name': 'desert', 'Type': 'normal', 'Danger Level': 1, 'Creature Probability': 0.1, 'Treasure Level': 1, 'Description': 'a barren desert', 'Detailed Description': None, 'creatures': 'scorpion', 'Terrain Textures': \"[         {'name':'Sand',         'abundance':300,         'density':5} ]\"}\n"
     ]
    }
   ],
   "source": [
    "t_details = yaml.load(ddf.T.to_json())\n",
    "\n",
    "\n",
    "print(t_details.keys())\n",
    "print(t_details.get('ds'))"
   ]
  },
  {
   "cell_type": "code",
   "execution_count": 21,
   "metadata": {},
   "outputs": [
    {
     "data": {
      "text/plain": [
       "Code\n",
       "fo    [{'name': 'Tree', 'density': 6, 'abundance': 1...\n",
       "sw    [{'name': 'Fern', 'abundance': 5, 'density': 5...\n",
       "mt    [{'name': 'Boulder', 'density': 6, 'abundance'...\n",
       "sa    [{'name': 'Umbrella Thorn', 'density': 6, 'abu...\n",
       "pl    [{'name': 'Grass', 'abundance': 150, 'density'...\n",
       "ds    [{'name': 'Sand', 'abundance': 300, 'density':...\n",
       "ic    [{'name': 'Glacier', 'density': 6, 'abundance'...\n",
       "oa    [{'name': 'Palm Tree', 'density': 6, 'abundanc...\n",
       "Name: Terrain Textures, dtype: object"
      ]
     },
     "execution_count": 21,
     "metadata": {},
     "output_type": "execute_result"
    }
   ],
   "source": [
    "#wierd issue causes the dict to load as string. Fixed it.\n",
    "ddf['Terrain Textures'] = ddf['Terrain Textures'].apply(lambda x: yaml.load(x))\n",
    "ddf['Terrain Textures']"
   ]
  },
  {
   "cell_type": "code",
   "execution_count": 22,
   "metadata": {},
   "outputs": [
    {
     "data": {
      "text/plain": [
       "list"
      ]
     },
     "execution_count": 22,
     "metadata": {},
     "output_type": "execute_result"
    }
   ],
   "source": [
    "type(ddf['Terrain Textures'][1])"
   ]
  },
  {
   "cell_type": "code",
   "execution_count": 23,
   "metadata": {
    "collapsed": false
   },
   "outputs": [
    {
     "data": {
      "text/html": [
       "<div>\n",
       "<style scoped>\n",
       "    .dataframe tbody tr th:only-of-type {\n",
       "        vertical-align: middle;\n",
       "    }\n",
       "\n",
       "    .dataframe tbody tr th {\n",
       "        vertical-align: top;\n",
       "    }\n",
       "\n",
       "    .dataframe thead th {\n",
       "        text-align: right;\n",
       "    }\n",
       "</style>\n",
       "<table border=\"1\" class=\"dataframe\">\n",
       "  <thead>\n",
       "    <tr style=\"text-align: right;\">\n",
       "      <th></th>\n",
       "      <th>Type Name</th>\n",
       "      <th>Type</th>\n",
       "      <th>Danger Level</th>\n",
       "      <th>Creature Probability</th>\n",
       "      <th>Treasure Level</th>\n",
       "      <th>Description</th>\n",
       "      <th>Detailed Description</th>\n",
       "      <th>creatures</th>\n",
       "      <th>Terrain Textures</th>\n",
       "    </tr>\n",
       "    <tr>\n",
       "      <th>Code</th>\n",
       "      <th></th>\n",
       "      <th></th>\n",
       "      <th></th>\n",
       "      <th></th>\n",
       "      <th></th>\n",
       "      <th></th>\n",
       "      <th></th>\n",
       "      <th></th>\n",
       "      <th></th>\n",
       "    </tr>\n",
       "  </thead>\n",
       "  <tbody>\n",
       "    <tr>\n",
       "      <th>fo</th>\n",
       "      <td>forest</td>\n",
       "      <td>normal</td>\n",
       "      <td>4</td>\n",
       "      <td>0.5</td>\n",
       "      <td>3</td>\n",
       "      <td>a quiet deciduous forest</td>\n",
       "      <td>NaN</td>\n",
       "      <td>goblin</td>\n",
       "      <td>[{'name': 'Tree', 'density': 6, 'abundance': 1...</td>\n",
       "    </tr>\n",
       "    <tr>\n",
       "      <th>sw</th>\n",
       "      <td>swamp</td>\n",
       "      <td>normal</td>\n",
       "      <td>8</td>\n",
       "      <td>0.8</td>\n",
       "      <td>2</td>\n",
       "      <td>a desolate swamp</td>\n",
       "      <td>NaN</td>\n",
       "      <td>goblin</td>\n",
       "      <td>[{'name': 'Fern', 'abundance': 5, 'density': 5...</td>\n",
       "    </tr>\n",
       "    <tr>\n",
       "      <th>mt</th>\n",
       "      <td>mountain</td>\n",
       "      <td>normal</td>\n",
       "      <td>6</td>\n",
       "      <td>0.4</td>\n",
       "      <td>5</td>\n",
       "      <td>a rugged mountain range</td>\n",
       "      <td>NaN</td>\n",
       "      <td>goblin</td>\n",
       "      <td>[{'name': 'Boulder', 'density': 6, 'abundance'...</td>\n",
       "    </tr>\n",
       "    <tr>\n",
       "      <th>sa</th>\n",
       "      <td>savanna</td>\n",
       "      <td>normal</td>\n",
       "      <td>3</td>\n",
       "      <td>0.1</td>\n",
       "      <td>3</td>\n",
       "      <td>a dry savana</td>\n",
       "      <td>NaN</td>\n",
       "      <td>tiger</td>\n",
       "      <td>[{'name': 'Umbrella Thorn', 'density': 6, 'abu...</td>\n",
       "    </tr>\n",
       "    <tr>\n",
       "      <th>pl</th>\n",
       "      <td>plain</td>\n",
       "      <td>normal</td>\n",
       "      <td>2</td>\n",
       "      <td>0.1</td>\n",
       "      <td>2</td>\n",
       "      <td>a grassy plain</td>\n",
       "      <td>NaN</td>\n",
       "      <td>tiger</td>\n",
       "      <td>[{'name': 'Grass', 'abundance': 150, 'density'...</td>\n",
       "    </tr>\n",
       "  </tbody>\n",
       "</table>\n",
       "</div>"
      ],
      "text/plain": [
       "     Type Name    Type  Danger Level  Creature Probability  Treasure Level  \\\n",
       "Code                                                                         \n",
       "fo      forest  normal             4                   0.5               3   \n",
       "sw       swamp  normal             8                   0.8               2   \n",
       "mt    mountain  normal             6                   0.4               5   \n",
       "sa     savanna  normal             3                   0.1               3   \n",
       "pl       plain  normal             2                   0.1               2   \n",
       "\n",
       "                   Description  Detailed Description creatures  \\\n",
       "Code                                                             \n",
       "fo    a quiet deciduous forest                   NaN    goblin   \n",
       "sw            a desolate swamp                   NaN    goblin   \n",
       "mt     a rugged mountain range                   NaN    goblin   \n",
       "sa                a dry savana                   NaN     tiger   \n",
       "pl              a grassy plain                   NaN     tiger   \n",
       "\n",
       "                                       Terrain Textures  \n",
       "Code                                                     \n",
       "fo    [{'name': 'Tree', 'density': 6, 'abundance': 1...  \n",
       "sw    [{'name': 'Fern', 'abundance': 5, 'density': 5...  \n",
       "mt    [{'name': 'Boulder', 'density': 6, 'abundance'...  \n",
       "sa    [{'name': 'Umbrella Thorn', 'density': 6, 'abu...  \n",
       "pl    [{'name': 'Grass', 'abundance': 150, 'density'...  "
      ]
     },
     "execution_count": 23,
     "metadata": {},
     "output_type": "execute_result"
    }
   ],
   "source": [
    "ddf.head()"
   ]
  },
  {
   "cell_type": "code",
   "execution_count": 24,
   "metadata": {},
   "outputs": [
    {
     "data": {
      "text/plain": [
       "{'affect': 'bump',\n",
       " 'affectAmt': 2,\n",
       " 'affectText': '*** hit a boulder',\n",
       " 'hex': '#D3D3D3',\n",
       " 'size': 10,\n",
       " 'spread': 'line'}"
      ]
     },
     "execution_count": 24,
     "metadata": {},
     "output_type": "execute_result"
    }
   ],
   "source": [
    "t_items = tidf.T.to_dict()\n",
    "t_items['Boulder']"
   ]
  },
  {
   "cell_type": "code",
   "execution_count": 25,
   "metadata": {
    "collapsed": false
   },
   "outputs": [
    {
     "data": {
      "text/html": [
       "<div>\n",
       "<style scoped>\n",
       "    .dataframe tbody tr th:only-of-type {\n",
       "        vertical-align: middle;\n",
       "    }\n",
       "\n",
       "    .dataframe tbody tr th {\n",
       "        vertical-align: top;\n",
       "    }\n",
       "\n",
       "    .dataframe thead th {\n",
       "        text-align: right;\n",
       "    }\n",
       "</style>\n",
       "<table border=\"1\" class=\"dataframe\">\n",
       "  <thead>\n",
       "    <tr style=\"text-align: right;\">\n",
       "      <th></th>\n",
       "      <th>hex</th>\n",
       "      <th>size</th>\n",
       "      <th>spread</th>\n",
       "      <th>affect</th>\n",
       "      <th>affectAmt</th>\n",
       "      <th>affectText</th>\n",
       "    </tr>\n",
       "    <tr>\n",
       "      <th>name</th>\n",
       "      <th></th>\n",
       "      <th></th>\n",
       "      <th></th>\n",
       "      <th></th>\n",
       "      <th></th>\n",
       "      <th></th>\n",
       "    </tr>\n",
       "  </thead>\n",
       "  <tbody>\n",
       "    <tr>\n",
       "      <th>Tree</th>\n",
       "      <td>#228B22</td>\n",
       "      <td>20</td>\n",
       "      <td>jitter</td>\n",
       "      <td>bump</td>\n",
       "      <td>2</td>\n",
       "      <td>*** hit a tree</td>\n",
       "    </tr>\n",
       "    <tr>\n",
       "      <th>Bush</th>\n",
       "      <td>#006400</td>\n",
       "      <td>10</td>\n",
       "      <td>jitter</td>\n",
       "      <td>hide</td>\n",
       "      <td>3</td>\n",
       "      <td>*** is hiding in a bush</td>\n",
       "    </tr>\n",
       "    <tr>\n",
       "      <th>Fern</th>\n",
       "      <td>#006400</td>\n",
       "      <td>5</td>\n",
       "      <td>jitter</td>\n",
       "      <td>no</td>\n",
       "      <td>0</td>\n",
       "      <td>none</td>\n",
       "    </tr>\n",
       "    <tr>\n",
       "      <th>Mud Pit</th>\n",
       "      <td>#794c13</td>\n",
       "      <td>10</td>\n",
       "      <td>jitter</td>\n",
       "      <td>slow</td>\n",
       "      <td>9</td>\n",
       "      <td>*** is stuck in the mud</td>\n",
       "    </tr>\n",
       "    <tr>\n",
       "      <th>Boulder</th>\n",
       "      <td>#D3D3D3</td>\n",
       "      <td>10</td>\n",
       "      <td>line</td>\n",
       "      <td>bump</td>\n",
       "      <td>2</td>\n",
       "      <td>*** hit a boulder</td>\n",
       "    </tr>\n",
       "    <tr>\n",
       "      <th>Stone</th>\n",
       "      <td>#000000</td>\n",
       "      <td>2</td>\n",
       "      <td>scatter</td>\n",
       "      <td>no</td>\n",
       "      <td>0</td>\n",
       "      <td>none</td>\n",
       "    </tr>\n",
       "    <tr>\n",
       "      <th>Rock</th>\n",
       "      <td>#2F4F4F</td>\n",
       "      <td>5</td>\n",
       "      <td>scatter</td>\n",
       "      <td>bump</td>\n",
       "      <td>2</td>\n",
       "      <td>*** hit a rock</td>\n",
       "    </tr>\n",
       "    <tr>\n",
       "      <th>Umbrella Thorn</th>\n",
       "      <td>#b39956</td>\n",
       "      <td>20</td>\n",
       "      <td>scatter</td>\n",
       "      <td>bump</td>\n",
       "      <td>1</td>\n",
       "      <td>*** hit an Umbrella Thorn tree</td>\n",
       "    </tr>\n",
       "    <tr>\n",
       "      <th>Tall grass</th>\n",
       "      <td>#fbf9de</td>\n",
       "      <td>1</td>\n",
       "      <td>scatter</td>\n",
       "      <td>no</td>\n",
       "      <td>0</td>\n",
       "      <td>none</td>\n",
       "    </tr>\n",
       "    <tr>\n",
       "      <th>Grass</th>\n",
       "      <td>#006400</td>\n",
       "      <td>1</td>\n",
       "      <td>scatter</td>\n",
       "      <td>no</td>\n",
       "      <td>0</td>\n",
       "      <td>none</td>\n",
       "    </tr>\n",
       "    <tr>\n",
       "      <th>Sand</th>\n",
       "      <td>#c2b280</td>\n",
       "      <td>1</td>\n",
       "      <td>scatter</td>\n",
       "      <td>no</td>\n",
       "      <td>0</td>\n",
       "      <td>none</td>\n",
       "    </tr>\n",
       "    <tr>\n",
       "      <th>Palm Tree</th>\n",
       "      <td>#5f5d36</td>\n",
       "      <td>10</td>\n",
       "      <td>jitter</td>\n",
       "      <td>bump</td>\n",
       "      <td>5</td>\n",
       "      <td>*** hit a palm tree</td>\n",
       "    </tr>\n",
       "    <tr>\n",
       "      <th>Glacier</th>\n",
       "      <td>#729DC8</td>\n",
       "      <td>50</td>\n",
       "      <td>line</td>\n",
       "      <td>bump</td>\n",
       "      <td>2</td>\n",
       "      <td>*** has hit glacier</td>\n",
       "    </tr>\n",
       "    <tr>\n",
       "      <th>Lake</th>\n",
       "      <td>#008D97</td>\n",
       "      <td>30</td>\n",
       "      <td>scatter</td>\n",
       "      <td>slow</td>\n",
       "      <td>1</td>\n",
       "      <td>*** is in a lake</td>\n",
       "    </tr>\n",
       "  </tbody>\n",
       "</table>\n",
       "</div>"
      ],
      "text/plain": [
       "                    hex  size   spread affect  affectAmt  \\\n",
       "name                                                       \n",
       "Tree            #228B22    20   jitter   bump          2   \n",
       "Bush            #006400    10   jitter   hide          3   \n",
       "Fern            #006400     5   jitter     no          0   \n",
       "Mud Pit         #794c13    10   jitter   slow          9   \n",
       "Boulder         #D3D3D3    10     line   bump          2   \n",
       "Stone           #000000     2  scatter     no          0   \n",
       "Rock            #2F4F4F     5  scatter   bump          2   \n",
       "Umbrella Thorn  #b39956    20  scatter   bump          1   \n",
       "Tall grass      #fbf9de     1  scatter     no          0   \n",
       "Grass           #006400     1  scatter     no          0   \n",
       "Sand            #c2b280     1  scatter     no          0   \n",
       "Palm Tree       #5f5d36    10   jitter   bump          5   \n",
       "Glacier         #729DC8    50     line   bump          2   \n",
       "Lake            #008D97    30  scatter   slow          1   \n",
       "\n",
       "                                    affectText  \n",
       "name                                            \n",
       "Tree                            *** hit a tree  \n",
       "Bush                   *** is hiding in a bush  \n",
       "Fern                                      none  \n",
       "Mud Pit                *** is stuck in the mud  \n",
       "Boulder                      *** hit a boulder  \n",
       "Stone                                     none  \n",
       "Rock                            *** hit a rock  \n",
       "Umbrella Thorn  *** hit an Umbrella Thorn tree  \n",
       "Tall grass                                none  \n",
       "Grass                                     none  \n",
       "Sand                                      none  \n",
       "Palm Tree                  *** hit a palm tree  \n",
       "Glacier                    *** has hit glacier  \n",
       "Lake                          *** is in a lake  "
      ]
     },
     "execution_count": 25,
     "metadata": {},
     "output_type": "execute_result"
    }
   ],
   "source": [
    "tidf"
   ]
  },
  {
   "cell_type": "code",
   "execution_count": 26,
   "metadata": {},
   "outputs": [
    {
     "name": "stdout",
     "output_type": "stream",
     "text": [
      "dict_keys(['goblin', 'tiger', 'scorpion', 'yeti', 'raider'])\n",
      "{'name': 'Goblin', 'health': 3, 'healthMaxVariance': 2, 'move': 5, 'size': 5, 'move type': 'swarm', 'render type': 'pack', 'group min': 5, 'group max': 10, 'color': '#3E8E3E', 'perception': 10, 'attackType': 'swung a rusty sword', 'damage': 4}\n"
     ]
    }
   ],
   "source": [
    "beastiary = bdf.T.to_dict()\n",
    "\n",
    "print(beastiary.keys())\n",
    "print(beastiary['goblin'])"
   ]
  },
  {
   "cell_type": "code",
   "execution_count": 27,
   "metadata": {},
   "outputs": [
    {
     "data": {
      "text/html": [
       "<div>\n",
       "<style scoped>\n",
       "    .dataframe tbody tr th:only-of-type {\n",
       "        vertical-align: middle;\n",
       "    }\n",
       "\n",
       "    .dataframe tbody tr th {\n",
       "        vertical-align: top;\n",
       "    }\n",
       "\n",
       "    .dataframe thead th {\n",
       "        text-align: right;\n",
       "    }\n",
       "</style>\n",
       "<table border=\"1\" class=\"dataframe\">\n",
       "  <thead>\n",
       "    <tr style=\"text-align: right;\">\n",
       "      <th></th>\n",
       "      <th>name</th>\n",
       "      <th>health</th>\n",
       "      <th>healthMaxVariance</th>\n",
       "      <th>move</th>\n",
       "      <th>size</th>\n",
       "      <th>move type</th>\n",
       "      <th>render type</th>\n",
       "      <th>group min</th>\n",
       "      <th>group max</th>\n",
       "      <th>color</th>\n",
       "      <th>perception</th>\n",
       "      <th>attackType</th>\n",
       "      <th>damage</th>\n",
       "    </tr>\n",
       "    <tr>\n",
       "      <th>index</th>\n",
       "      <th></th>\n",
       "      <th></th>\n",
       "      <th></th>\n",
       "      <th></th>\n",
       "      <th></th>\n",
       "      <th></th>\n",
       "      <th></th>\n",
       "      <th></th>\n",
       "      <th></th>\n",
       "      <th></th>\n",
       "      <th></th>\n",
       "      <th></th>\n",
       "      <th></th>\n",
       "    </tr>\n",
       "  </thead>\n",
       "  <tbody>\n",
       "    <tr>\n",
       "      <th>goblin</th>\n",
       "      <td>Goblin</td>\n",
       "      <td>3</td>\n",
       "      <td>2</td>\n",
       "      <td>5</td>\n",
       "      <td>5</td>\n",
       "      <td>swarm</td>\n",
       "      <td>pack</td>\n",
       "      <td>5</td>\n",
       "      <td>10</td>\n",
       "      <td>#3E8E3E</td>\n",
       "      <td>10</td>\n",
       "      <td>swung a rusty sword</td>\n",
       "      <td>4</td>\n",
       "    </tr>\n",
       "    <tr>\n",
       "      <th>tiger</th>\n",
       "      <td>Tiger</td>\n",
       "      <td>8</td>\n",
       "      <td>4</td>\n",
       "      <td>10</td>\n",
       "      <td>6</td>\n",
       "      <td>swarm</td>\n",
       "      <td>alone</td>\n",
       "      <td>1</td>\n",
       "      <td>1</td>\n",
       "      <td>#e08d3c</td>\n",
       "      <td>200</td>\n",
       "      <td>swung it's might claws</td>\n",
       "      <td>12</td>\n",
       "    </tr>\n",
       "    <tr>\n",
       "      <th>scorpion</th>\n",
       "      <td>Giant Scorpion</td>\n",
       "      <td>8</td>\n",
       "      <td>7</td>\n",
       "      <td>3</td>\n",
       "      <td>8</td>\n",
       "      <td>swarm</td>\n",
       "      <td>scatter</td>\n",
       "      <td>1</td>\n",
       "      <td>2</td>\n",
       "      <td>#716D6F</td>\n",
       "      <td>10</td>\n",
       "      <td>struck with it's stinger</td>\n",
       "      <td>12</td>\n",
       "    </tr>\n",
       "    <tr>\n",
       "      <th>yeti</th>\n",
       "      <td>Yeti</td>\n",
       "      <td>15</td>\n",
       "      <td>3</td>\n",
       "      <td>5</td>\n",
       "      <td>15</td>\n",
       "      <td>swarm</td>\n",
       "      <td>alone</td>\n",
       "      <td>1</td>\n",
       "      <td>1</td>\n",
       "      <td>#a0d6b4</td>\n",
       "      <td>50</td>\n",
       "      <td>swung with it's fists</td>\n",
       "      <td>8</td>\n",
       "    </tr>\n",
       "    <tr>\n",
       "      <th>raider</th>\n",
       "      <td>Raider</td>\n",
       "      <td>15</td>\n",
       "      <td>5</td>\n",
       "      <td>6</td>\n",
       "      <td>10</td>\n",
       "      <td>swarm</td>\n",
       "      <td>pack</td>\n",
       "      <td>2</td>\n",
       "      <td>3</td>\n",
       "      <td>#4a3b29</td>\n",
       "      <td>150</td>\n",
       "      <td>swung a daggar</td>\n",
       "      <td>6</td>\n",
       "    </tr>\n",
       "  </tbody>\n",
       "</table>\n",
       "</div>"
      ],
      "text/plain": [
       "                    name  health  healthMaxVariance  move  size move type  \\\n",
       "index                                                                       \n",
       "goblin            Goblin       3                  2     5     5     swarm   \n",
       "tiger              Tiger       8                  4    10     6     swarm   \n",
       "scorpion  Giant Scorpion       8                  7     3     8     swarm   \n",
       "yeti                Yeti      15                  3     5    15     swarm   \n",
       "raider            Raider      15                  5     6    10     swarm   \n",
       "\n",
       "         render type  group min  group max    color  perception  \\\n",
       "index                                                             \n",
       "goblin          pack          5         10  #3E8E3E          10   \n",
       "tiger          alone          1          1  #e08d3c         200   \n",
       "scorpion     scatter          1          2  #716D6F          10   \n",
       "yeti           alone          1          1  #a0d6b4          50   \n",
       "raider          pack          2          3  #4a3b29         150   \n",
       "\n",
       "                        attackType  damage  \n",
       "index                                       \n",
       "goblin         swung a rusty sword       4  \n",
       "tiger       swung it's might claws      12  \n",
       "scorpion  struck with it's stinger      12  \n",
       "yeti         swung with it's fists       8  \n",
       "raider              swung a daggar       6  "
      ]
     },
     "execution_count": 27,
     "metadata": {},
     "output_type": "execute_result"
    }
   ],
   "source": [
    "bdf.head()"
   ]
  },
  {
   "cell_type": "markdown",
   "metadata": {},
   "source": [
    "## Transform data into useful types\n",
    "any cleaning steps taken here"
   ]
  },
  {
   "cell_type": "code",
   "execution_count": 77,
   "metadata": {},
   "outputs": [
    {
     "data": {
      "text/plain": [
       "[[{'abundance': 5, 'density': 5, 'name': 'Fern'},\n",
       "  {'abundance': 15, 'density': 5, 'name': 'Mud Pit'}],\n",
       " [{'abundance': 5, 'density': 5, 'name': 'Fern'},\n",
       "  {'abundance': 15, 'density': 5, 'name': 'Mud Pit'}],\n",
       " [{'abundance': 5, 'density': 5, 'name': 'Fern'},\n",
       "  {'abundance': 15, 'density': 5, 'name': 'Mud Pit'}],\n",
       " [{'abundance': 5, 'density': 5, 'name': 'Fern'},\n",
       "  {'abundance': 15, 'density': 5, 'name': 'Mud Pit'}],\n",
       " [{'abundance': 5, 'density': 5, 'name': 'Fern'},\n",
       "  {'abundance': 15, 'density': 5, 'name': 'Mud Pit'}],\n",
       " [{'abundance': 5, 'density': 5, 'name': 'Fern'},\n",
       "  {'abundance': 15, 'density': 5, 'name': 'Mud Pit'}],\n",
       " [{'abundance': 5, 'density': 5, 'name': 'Fern'},\n",
       "  {'abundance': 15, 'density': 5, 'name': 'Mud Pit'}],\n",
       " [{'abundance': 5, 'density': 5, 'name': 'Fern'},\n",
       "  {'abundance': 15, 'density': 5, 'name': 'Mud Pit'}]]"
      ]
     },
     "execution_count": 77,
     "metadata": {},
     "output_type": "execute_result"
    }
   ],
   "source": [
    "[yaml.load(t_details[list(t_details.keys())[1]]['Terrain Textures']) for i in list(t_details.keys())]"
   ]
  },
  {
   "cell_type": "code",
   "execution_count": 82,
   "metadata": {},
   "outputs": [],
   "source": [
    "for i in list(t_details.keys()):\n",
    "    t_details[i]['Terrain Textures'] = yaml.load(t_details[i]['Terrain Textures'])"
   ]
  },
  {
   "cell_type": "code",
   "execution_count": 83,
   "metadata": {},
   "outputs": [
    {
     "data": {
      "text/plain": [
       "[{'abundance': 10, 'density': 6, 'name': 'Palm Tree'},\n",
       " {'abundance': 150, 'density': 5, 'name': 'Sand'}]"
      ]
     },
     "execution_count": 83,
     "metadata": {},
     "output_type": "execute_result"
    }
   ],
   "source": [
    "t_details[i]['Terrain Textures']"
   ]
  },
  {
   "cell_type": "code",
   "execution_count": 84,
   "metadata": {},
   "outputs": [
    {
     "data": {
      "text/plain": [
       "dict"
      ]
     },
     "execution_count": 84,
     "metadata": {},
     "output_type": "execute_result"
    }
   ],
   "source": [
    "type(t_details[list(t_details.keys())[1]])"
   ]
  },
  {
   "cell_type": "markdown",
   "metadata": {},
   "source": [
    "## Add Terrain Items to Terrain Details\n",
    "I'm adding terrain textures to the terrain details because those features are generally small. If this list gets really large I might load the terrain on demand."
   ]
  },
  {
   "cell_type": "code",
   "execution_count": 86,
   "metadata": {
    "collapsed": false
   },
   "outputs": [
    {
     "name": "stdout",
     "output_type": "stream",
     "text": [
      "forest\n",
      "swamp\n",
      "mountain\n",
      "savanna\n",
      "plain\n",
      "desert\n",
      "tundra\n",
      "oasis\n"
     ]
    }
   ],
   "source": [
    "for item in t_details.keys():\n",
    "    print(t_details[item]['Type Name'])\n",
    "    for ter in t_details[item]['Terrain Textures']:\n",
    "        ter['hex'] = tidf.ix[ter['name'],'hex']\n",
    "        ter['size'] = tidf.ix[ter['name'],'size']\n",
    "        ter['spread'] = tidf.ix[ter['name'],'spread']\n",
    "        ter['affect'] = tidf.ix[ter['name'],'affect']\n",
    "        ter['affectAmt'] = tidf.ix[ter['name'],'affectAmt']\n",
    "        ter['affectText'] = tidf.ix[ter['name'],'affectText']"
   ]
  },
  {
   "cell_type": "code",
   "execution_count": 87,
   "metadata": {},
   "outputs": [
    {
     "data": {
      "text/plain": [
       "{'abundance': 150,\n",
       " 'affect': 'no',\n",
       " 'affectAmt': 0,\n",
       " 'affectText': 'none',\n",
       " 'density': 5,\n",
       " 'hex': '#c2b280',\n",
       " 'name': 'Sand',\n",
       " 'size': 1,\n",
       " 'spread': 'scatter'}"
      ]
     },
     "execution_count": 87,
     "metadata": {},
     "output_type": "execute_result"
    }
   ],
   "source": [
    "ter"
   ]
  },
  {
   "cell_type": "code",
   "execution_count": 88,
   "metadata": {},
   "outputs": [
    {
     "data": {
      "text/plain": [
       "{'ds': {'Creature Probability': 0.1,\n",
       "  'Danger Level': 1,\n",
       "  'Description': 'a barren desert',\n",
       "  'Detailed Description': None,\n",
       "  'Terrain Textures': [{'abundance': 300,\n",
       "    'affect': 'no',\n",
       "    'affectAmt': 0,\n",
       "    'affectText': 'none',\n",
       "    'density': 5,\n",
       "    'hex': '#c2b280',\n",
       "    'name': 'Sand',\n",
       "    'size': 1,\n",
       "    'spread': 'scatter'}],\n",
       "  'Treasure Level': 1,\n",
       "  'Type': 'normal',\n",
       "  'Type Name': 'desert',\n",
       "  'creatures': 'scorpion'},\n",
       " 'fo': {'Creature Probability': 0.5,\n",
       "  'Danger Level': 4,\n",
       "  'Description': 'a quiet deciduous forest',\n",
       "  'Detailed Description': None,\n",
       "  'Terrain Textures': [{'abundance': 10,\n",
       "    'affect': 'bump',\n",
       "    'affectAmt': 2,\n",
       "    'affectText': '*** hit a tree',\n",
       "    'density': 6,\n",
       "    'hex': '#228B22',\n",
       "    'name': 'Tree',\n",
       "    'size': 20,\n",
       "    'spread': 'jitter'},\n",
       "   {'abundance': 5,\n",
       "    'affect': 'hide',\n",
       "    'affectAmt': 3,\n",
       "    'affectText': '*** is hiding in a bush',\n",
       "    'density': 5,\n",
       "    'hex': '#006400',\n",
       "    'name': 'Bush',\n",
       "    'size': 10,\n",
       "    'spread': 'jitter'},\n",
       "   {'abundance': 3,\n",
       "    'affect': 'slow',\n",
       "    'affectAmt': 1,\n",
       "    'affectText': '*** is in a lake',\n",
       "    'density': 2,\n",
       "    'hex': '#008D97',\n",
       "    'name': 'Lake',\n",
       "    'size': 30,\n",
       "    'spread': 'scatter'}],\n",
       "  'Treasure Level': 3,\n",
       "  'Type': 'normal',\n",
       "  'Type Name': 'forest',\n",
       "  'creatures': 'goblin'},\n",
       " 'ic': {'Creature Probability': 0.1,\n",
       "  'Danger Level': 0,\n",
       "  'Description': 'a tundra',\n",
       "  'Detailed Description': None,\n",
       "  'Terrain Textures': [{'abundance': 5,\n",
       "    'affect': 'bump',\n",
       "    'affectAmt': 2,\n",
       "    'affectText': '*** has hit glacier',\n",
       "    'density': 6,\n",
       "    'hex': '#729DC8',\n",
       "    'name': 'Glacier',\n",
       "    'size': 50,\n",
       "    'spread': 'line'}],\n",
       "  'Treasure Level': 0,\n",
       "  'Type': 'normal',\n",
       "  'Type Name': 'tundra',\n",
       "  'creatures': 'yeti'},\n",
       " 'mt': {'Creature Probability': 0.4,\n",
       "  'Danger Level': 6,\n",
       "  'Description': 'a rugged mountain range',\n",
       "  'Detailed Description': None,\n",
       "  'Terrain Textures': [{'abundance': 10,\n",
       "    'affect': 'bump',\n",
       "    'affectAmt': 2,\n",
       "    'affectText': '*** hit a boulder',\n",
       "    'density': 6,\n",
       "    'hex': '#D3D3D3',\n",
       "    'name': 'Boulder',\n",
       "    'size': 10,\n",
       "    'spread': 'line'},\n",
       "   {'abundance': 5,\n",
       "    'affect': 'bump',\n",
       "    'affectAmt': 2,\n",
       "    'affectText': '*** hit a rock',\n",
       "    'density': 5,\n",
       "    'hex': '#2F4F4F',\n",
       "    'name': 'Rock',\n",
       "    'size': 5,\n",
       "    'spread': 'scatter'},\n",
       "   {'abundance': 30,\n",
       "    'affect': 'no',\n",
       "    'affectAmt': 0,\n",
       "    'affectText': 'none',\n",
       "    'density': 5,\n",
       "    'hex': '#000000',\n",
       "    'name': 'Stone',\n",
       "    'size': 2,\n",
       "    'spread': 'scatter'}],\n",
       "  'Treasure Level': 5,\n",
       "  'Type': 'normal',\n",
       "  'Type Name': 'mountain',\n",
       "  'creatures': 'goblin'},\n",
       " 'oa': {'Creature Probability': 0.3,\n",
       "  'Danger Level': 5,\n",
       "  'Description': 'an oasis',\n",
       "  'Detailed Description': None,\n",
       "  'Terrain Textures': [{'abundance': 10,\n",
       "    'affect': 'bump',\n",
       "    'affectAmt': 5,\n",
       "    'affectText': '*** hit a palm tree',\n",
       "    'density': 6,\n",
       "    'hex': '#5f5d36',\n",
       "    'name': 'Palm Tree',\n",
       "    'size': 10,\n",
       "    'spread': 'jitter'},\n",
       "   {'abundance': 150,\n",
       "    'affect': 'no',\n",
       "    'affectAmt': 0,\n",
       "    'affectText': 'none',\n",
       "    'density': 5,\n",
       "    'hex': '#c2b280',\n",
       "    'name': 'Sand',\n",
       "    'size': 1,\n",
       "    'spread': 'scatter'}],\n",
       "  'Treasure Level': 5,\n",
       "  'Type': 'special',\n",
       "  'Type Name': 'oasis',\n",
       "  'creatures': 'raider'},\n",
       " 'pl': {'Creature Probability': 0.1,\n",
       "  'Danger Level': 2,\n",
       "  'Description': 'a grassy plain',\n",
       "  'Detailed Description': None,\n",
       "  'Terrain Textures': [{'abundance': 150,\n",
       "    'affect': 'no',\n",
       "    'affectAmt': 0,\n",
       "    'affectText': 'none',\n",
       "    'density': 5,\n",
       "    'hex': '#006400',\n",
       "    'name': 'Grass',\n",
       "    'size': 1,\n",
       "    'spread': 'scatter'},\n",
       "   {'abundance': 5,\n",
       "    'affect': 'bump',\n",
       "    'affectAmt': 2,\n",
       "    'affectText': '*** hit a rock',\n",
       "    'density': 5,\n",
       "    'hex': '#2F4F4F',\n",
       "    'name': 'Rock',\n",
       "    'size': 5,\n",
       "    'spread': 'scatter'}],\n",
       "  'Treasure Level': 2,\n",
       "  'Type': 'normal',\n",
       "  'Type Name': 'plain',\n",
       "  'creatures': 'tiger'},\n",
       " 'sa': {'Creature Probability': 0.1,\n",
       "  'Danger Level': 3,\n",
       "  'Description': 'a dry savana',\n",
       "  'Detailed Description': None,\n",
       "  'Terrain Textures': [{'abundance': 10,\n",
       "    'affect': 'bump',\n",
       "    'affectAmt': 1,\n",
       "    'affectText': '*** hit an Umbrella Thorn tree',\n",
       "    'density': 6,\n",
       "    'hex': '#b39956',\n",
       "    'name': 'Umbrella Thorn',\n",
       "    'size': 20,\n",
       "    'spread': 'scatter'},\n",
       "   {'abundance': 150,\n",
       "    'affect': 'no',\n",
       "    'affectAmt': 0,\n",
       "    'affectText': 'none',\n",
       "    'density': 5,\n",
       "    'hex': '#006400',\n",
       "    'name': 'Grass',\n",
       "    'size': 1,\n",
       "    'spread': 'scatter'}],\n",
       "  'Treasure Level': 3,\n",
       "  'Type': 'normal',\n",
       "  'Type Name': 'savanna',\n",
       "  'creatures': 'tiger'},\n",
       " 'sw': {'Creature Probability': 0.8,\n",
       "  'Danger Level': 8,\n",
       "  'Description': 'a desolate swamp',\n",
       "  'Detailed Description': None,\n",
       "  'Terrain Textures': [{'abundance': 5,\n",
       "    'affect': 'no',\n",
       "    'affectAmt': 0,\n",
       "    'affectText': 'none',\n",
       "    'density': 5,\n",
       "    'hex': '#006400',\n",
       "    'name': 'Fern',\n",
       "    'size': 5,\n",
       "    'spread': 'jitter'},\n",
       "   {'abundance': 15,\n",
       "    'affect': 'slow',\n",
       "    'affectAmt': 9,\n",
       "    'affectText': '*** is stuck in the mud',\n",
       "    'density': 5,\n",
       "    'hex': '#794c13',\n",
       "    'name': 'Mud Pit',\n",
       "    'size': 10,\n",
       "    'spread': 'jitter'}],\n",
       "  'Treasure Level': 2,\n",
       "  'Type': 'normal',\n",
       "  'Type Name': 'swamp',\n",
       "  'creatures': 'goblin'}}"
      ]
     },
     "execution_count": 88,
     "metadata": {},
     "output_type": "execute_result"
    }
   ],
   "source": [
    "t_details"
   ]
  },
  {
   "cell_type": "code",
   "execution_count": 89,
   "metadata": {
    "collapsed": false
   },
   "outputs": [
    {
     "name": "stdout",
     "output_type": "stream",
     "text": [
      "dict_keys(['fo', 'sw', 'mt', 'sa', 'pl', 'ds', 'ic', 'oa'])\n",
      "{'Type Name': 'plain', 'Type': 'normal', 'Danger Level': 2, 'Creature Probability': 0.1, 'Treasure Level': 2, 'Description': 'a grassy plain', 'Detailed Description': None, 'creatures': 'tiger', 'Terrain Textures': [{'name': 'Grass', 'abundance': 150, 'density': 5, 'hex': '#006400', 'size': 1, 'spread': 'scatter', 'affect': 'no', 'affectAmt': 0, 'affectText': 'none'}, {'name': 'Rock', 'abundance': 5, 'density': 5, 'hex': '#2F4F4F', 'size': 5, 'spread': 'scatter', 'affect': 'bump', 'affectAmt': 2, 'affectText': '*** hit a rock'}]}\n"
     ]
    }
   ],
   "source": [
    "print(t_details.keys())\n",
    "print(t_details.get('pl'))"
   ]
  },
  {
   "cell_type": "markdown",
   "metadata": {},
   "source": [
    "## Saving terrain Detail to JSON and sending them to S3 via BOTO\n",
    "\n",
    "Each terrain detail item is saved as a separate file so that not all terrain types need to be loaded at the same time. "
   ]
  },
  {
   "cell_type": "code",
   "execution_count": 90,
   "metadata": {
    "collapsed": false
   },
   "outputs": [
    {
     "name": "stdout",
     "output_type": "stream",
     "text": [
      "fo already exists... Overwriting\n",
      "sw already exists... Overwriting\n",
      "mt already exists... Overwriting\n",
      "sa already exists... Overwriting\n",
      "pl already exists... Overwriting\n",
      "ds already exists... Overwriting\n",
      "ic already exists... Overwriting\n",
      "oa already exists... Overwriting\n"
     ]
    }
   ],
   "source": [
    "from boto.s3.key import Key\n",
    "\n",
    "for item in t_details.keys():\n",
    "    myKey = mybucket.get_key('terrain/' + item)\n",
    "    if myKey==None:\n",
    "        print(\"Saving key: \" + item)\n",
    "        k = Key(mybucket)\n",
    "        k.key = 'terrain/' + item\n",
    "        k.set_contents_from_string(str(t_details[item]))\n",
    "    else:\n",
    "        print(item+\" already exists... Overwriting\")\n",
    "        myKey.set_contents_from_string(str(t_details[item]))"
   ]
  },
  {
   "cell_type": "code",
   "execution_count": 91,
   "metadata": {
    "collapsed": false
   },
   "outputs": [
    {
     "data": {
      "text/plain": [
       "4454"
      ]
     },
     "execution_count": 91,
     "metadata": {},
     "output_type": "execute_result"
    }
   ],
   "source": [
    "# Uploading all of t_details for use when creating worlds\n",
    "k = Key(mybucket)\n",
    "k.key = 'terrain/' + 'terrain_details'\n",
    "k.set_contents_from_string(str(t_details))"
   ]
  },
  {
   "cell_type": "code",
   "execution_count": 92,
   "metadata": {},
   "outputs": [
    {
     "data": {
      "text/plain": [
       "1294"
      ]
     },
     "execution_count": 92,
     "metadata": {},
     "output_type": "execute_result"
    }
   ],
   "source": [
    "# Uploading the Bestiary\n",
    "k = Key(mybucket)\n",
    "k.key = 'terrain/' + 'beastiary'\n",
    "k.set_contents_from_string(str(beastiary))"
   ]
  },
  {
   "cell_type": "markdown",
   "metadata": {},
   "source": [
    "## working inside of terrain textures"
   ]
  },
  {
   "cell_type": "code",
   "execution_count": 43,
   "metadata": {
    "collapsed": false
   },
   "outputs": [],
   "source": [
    "terrData = yaml.load(myKey.get_contents_as_string())"
   ]
  },
  {
   "cell_type": "code",
   "execution_count": 44,
   "metadata": {
    "collapsed": false
   },
   "outputs": [
    {
     "data": {
      "text/plain": [
       "{'Creature Probability': 0.3,\n",
       " 'Danger Level': 5,\n",
       " 'Description': 'an oasis',\n",
       " 'Detailed Description': 'None',\n",
       " 'Terrain Textures': \"[         {'name':'Palm Tree',         'density':6,         'abundance':10},         {'name':'Sand',         'abundance':150,         'density':5} ]\",\n",
       " 'Treasure Level': 5,\n",
       " 'Type': 'special',\n",
       " 'Type Name': 'oasis',\n",
       " 'creatures': 'raider'}"
      ]
     },
     "execution_count": 44,
     "metadata": {},
     "output_type": "execute_result"
    }
   ],
   "source": [
    "terrData"
   ]
  },
  {
   "cell_type": "code",
   "execution_count": null,
   "metadata": {
    "collapsed": true
   },
   "outputs": [],
   "source": []
  }
 ],
 "metadata": {
  "anaconda-cloud": {},
  "kernelspec": {
   "display_name": "Python 3",
   "language": "python",
   "name": "python3"
  },
  "language_info": {
   "codemirror_mode": {
    "name": "ipython",
    "version": 3
   },
   "file_extension": ".py",
   "mimetype": "text/x-python",
   "name": "python",
   "nbconvert_exporter": "python",
   "pygments_lexer": "ipython3",
   "version": "3.6.5"
  }
 },
 "nbformat": 4,
 "nbformat_minor": 2
}
