{
 "cells": [
  {
   "cell_type": "markdown",
   "metadata": {},
   "source": [
    "# Randomly Generated a World Map\n",
    "\n",
    "### Building a random world map each time that a new character is created.\n",
    "I wanted my Flask Game to be focused on randomly generated content. So when a new user creates an account, a world is also created for them. This way I can design a game like a statistician, not like a storyteller. I also wanted to build from a data science perspecitve, using tools like D3.js and Python in order to develop my skills in these applications. \n",
    "\n",
    "[**You can play the game here**](http://williamjeffreyharding.com/game/welcome). I haven't added any bad guys or quests but you can explore the terrain. Hoping to add more content to this game this year."
   ]
  },
  {
   "cell_type": "markdown",
   "metadata": {},
   "source": [
    "### Defining the traits of the world\n",
    "In my game, I set up the definitions of objects, and their traits. D3.js will later define the business rules and how objects interact with each other. \n",
    "\n",
    "[here's an example of how objects interact](https://github.com/BillmanH/Flask-Game-Front-End/blob/master/activity_map_boarder.html)"
   ]
  },
  {
   "cell_type": "code",
   "execution_count": 15,
   "metadata": {
    "collapsed": false
   },
   "outputs": [],
   "source": [
    "#This code is just to set up the data that I'll use in the rest of this module. \n",
    "import pandas as pd\n",
    "import numpy as np\n",
    "import boto\n",
    "import yaml\n",
    "\n",
    "#terrain data \n",
    "ddf = pd.read_csv(\"/home/billmanh/Downloads/Play/Flask RPG/Flask RPG - Terrain Detail.tsv\",sep=\"\\t\")\n",
    "#bestiary - beasts are not implemented yet but I'll be working on them shortly.\n",
    "bdf = pd.read_csv(\"/home/billmanh/Downloads/Play/Flask RPG/Flask RPG - Bestiary.tsv\",sep=\"\\t\")\n",
    "\n",
    "terrain = {}\n",
    "for row in ddf.index:\n",
    "    terrain[ddf.ix[row,'Code']]=yaml.load(ddf.ix[row].to_json())"
   ]
  },
  {
   "cell_type": "markdown",
   "metadata": {},
   "source": [
    "The only thing that has human input at this point is the description of the attributes in the world. Each region on the map contains a type, which has various danger levels, descriptions, textures and creatures. "
   ]
  },
  {
   "cell_type": "code",
   "execution_count": 9,
   "metadata": {
    "collapsed": false
   },
   "outputs": [
    {
     "data": {
      "text/html": [
       "<div>\n",
       "<table border=\"1\" class=\"dataframe\">\n",
       "  <thead>\n",
       "    <tr style=\"text-align: right;\">\n",
       "      <th></th>\n",
       "      <th>Code</th>\n",
       "      <th>Type Name</th>\n",
       "      <th>Type</th>\n",
       "      <th>Danger Level</th>\n",
       "      <th>Creature Probability</th>\n",
       "      <th>Treasure Level</th>\n",
       "      <th>Description</th>\n",
       "      <th>Detailed Description</th>\n",
       "      <th>creatures</th>\n",
       "      <th>Terrain Textures</th>\n",
       "    </tr>\n",
       "  </thead>\n",
       "  <tbody>\n",
       "    <tr>\n",
       "      <th>0</th>\n",
       "      <td>fo</td>\n",
       "      <td>forest</td>\n",
       "      <td>normal</td>\n",
       "      <td>4</td>\n",
       "      <td>0.5</td>\n",
       "      <td>3</td>\n",
       "      <td>a quiet deciduous forest</td>\n",
       "      <td>NaN</td>\n",
       "      <td>goblin</td>\n",
       "      <td>[         {'name':'Tree',         'density':6,...</td>\n",
       "    </tr>\n",
       "    <tr>\n",
       "      <th>1</th>\n",
       "      <td>sw</td>\n",
       "      <td>swamp</td>\n",
       "      <td>normal</td>\n",
       "      <td>8</td>\n",
       "      <td>0.8</td>\n",
       "      <td>2</td>\n",
       "      <td>a desolate swamp</td>\n",
       "      <td>NaN</td>\n",
       "      <td>goblin</td>\n",
       "      <td>[         {'name':'Fern',         'abundance':...</td>\n",
       "    </tr>\n",
       "    <tr>\n",
       "      <th>2</th>\n",
       "      <td>mt</td>\n",
       "      <td>mountain</td>\n",
       "      <td>normal</td>\n",
       "      <td>6</td>\n",
       "      <td>0.4</td>\n",
       "      <td>5</td>\n",
       "      <td>a rugged mountain range</td>\n",
       "      <td>NaN</td>\n",
       "      <td>goblin</td>\n",
       "      <td>[         {'name':'Boulder',         'density'...</td>\n",
       "    </tr>\n",
       "    <tr>\n",
       "      <th>3</th>\n",
       "      <td>sa</td>\n",
       "      <td>savanna</td>\n",
       "      <td>normal</td>\n",
       "      <td>3</td>\n",
       "      <td>0.1</td>\n",
       "      <td>3</td>\n",
       "      <td>a dry savana</td>\n",
       "      <td>NaN</td>\n",
       "      <td>goblin,tiger</td>\n",
       "      <td>[         {'name':'Umbrella Thorn',         'd...</td>\n",
       "    </tr>\n",
       "    <tr>\n",
       "      <th>4</th>\n",
       "      <td>pl</td>\n",
       "      <td>plain</td>\n",
       "      <td>normal</td>\n",
       "      <td>2</td>\n",
       "      <td>0.1</td>\n",
       "      <td>2</td>\n",
       "      <td>a grassy plain</td>\n",
       "      <td>NaN</td>\n",
       "      <td>tiger</td>\n",
       "      <td>[         {'name':'Grass',         'abundance'...</td>\n",
       "    </tr>\n",
       "  </tbody>\n",
       "</table>\n",
       "</div>"
      ],
      "text/plain": [
       "  Code Type Name    Type  Danger Level  Creature Probability  Treasure Level  \\\n",
       "0   fo    forest  normal             4                   0.5               3   \n",
       "1   sw     swamp  normal             8                   0.8               2   \n",
       "2   mt  mountain  normal             6                   0.4               5   \n",
       "3   sa   savanna  normal             3                   0.1               3   \n",
       "4   pl     plain  normal             2                   0.1               2   \n",
       "\n",
       "                Description  Detailed Description     creatures  \\\n",
       "0  a quiet deciduous forest                   NaN        goblin   \n",
       "1          a desolate swamp                   NaN        goblin   \n",
       "2   a rugged mountain range                   NaN        goblin   \n",
       "3              a dry savana                   NaN  goblin,tiger   \n",
       "4            a grassy plain                   NaN         tiger   \n",
       "\n",
       "                                    Terrain Textures  \n",
       "0  [         {'name':'Tree',         'density':6,...  \n",
       "1  [         {'name':'Fern',         'abundance':...  \n",
       "2  [         {'name':'Boulder',         'density'...  \n",
       "3  [         {'name':'Umbrella Thorn',         'd...  \n",
       "4  [         {'name':'Grass',         'abundance'...  "
      ]
     },
     "execution_count": 9,
     "metadata": {},
     "output_type": "execute_result"
    }
   ],
   "source": [
    "ddf.head()"
   ]
  },
  {
   "cell_type": "markdown",
   "metadata": {},
   "source": [
    "Each Texture type has it's own business logic, which is deployed in the [cleint side code](https://github.com/BillmanH/Flask-Game-Front-End/tree/master/terrain) when the specified texture is called and for the number of times in the texture density. I can add or remove elements from the world by editing a google sheet and then downloading as csv. \n",
    "\n",
    "The bestiary isn't working yet, but I'm using this as a template to get the textures going. "
   ]
  },
  {
   "cell_type": "code",
   "execution_count": 10,
   "metadata": {
    "collapsed": false
   },
   "outputs": [
    {
     "data": {
      "text/html": [
       "<div>\n",
       "<table border=\"1\" class=\"dataframe\">\n",
       "  <thead>\n",
       "    <tr style=\"text-align: right;\">\n",
       "      <th></th>\n",
       "      <th>index</th>\n",
       "      <th>name</th>\n",
       "      <th>move</th>\n",
       "      <th>size</th>\n",
       "      <th>move type</th>\n",
       "      <th>render type</th>\n",
       "      <th>group min</th>\n",
       "      <th>group max</th>\n",
       "      <th>color</th>\n",
       "    </tr>\n",
       "  </thead>\n",
       "  <tbody>\n",
       "    <tr>\n",
       "      <th>0</th>\n",
       "      <td>goblin</td>\n",
       "      <td>Goblin</td>\n",
       "      <td>5</td>\n",
       "      <td>5</td>\n",
       "      <td>swarm</td>\n",
       "      <td>pack</td>\n",
       "      <td>5</td>\n",
       "      <td>10</td>\n",
       "      <td>#3E8E3E</td>\n",
       "    </tr>\n",
       "    <tr>\n",
       "      <th>1</th>\n",
       "      <td>tiger</td>\n",
       "      <td>Tiger</td>\n",
       "      <td>10</td>\n",
       "      <td>6</td>\n",
       "      <td>swarm</td>\n",
       "      <td>alone</td>\n",
       "      <td>1</td>\n",
       "      <td>1</td>\n",
       "      <td>#e08d3c</td>\n",
       "    </tr>\n",
       "    <tr>\n",
       "      <th>2</th>\n",
       "      <td>scorpion</td>\n",
       "      <td>Giant Scorpion</td>\n",
       "      <td>3</td>\n",
       "      <td>8</td>\n",
       "      <td>swarm</td>\n",
       "      <td>scatter</td>\n",
       "      <td>1</td>\n",
       "      <td>2</td>\n",
       "      <td>#716D6F</td>\n",
       "    </tr>\n",
       "    <tr>\n",
       "      <th>3</th>\n",
       "      <td>yeti</td>\n",
       "      <td>Yeti</td>\n",
       "      <td>5</td>\n",
       "      <td>15</td>\n",
       "      <td>swarm</td>\n",
       "      <td>alone</td>\n",
       "      <td>1</td>\n",
       "      <td>1</td>\n",
       "      <td>#a0d6b4</td>\n",
       "    </tr>\n",
       "    <tr>\n",
       "      <th>4</th>\n",
       "      <td>raider</td>\n",
       "      <td>Raider</td>\n",
       "      <td>6</td>\n",
       "      <td>10</td>\n",
       "      <td>swarm</td>\n",
       "      <td>pack</td>\n",
       "      <td>2</td>\n",
       "      <td>3</td>\n",
       "      <td>#4a3b29</td>\n",
       "    </tr>\n",
       "  </tbody>\n",
       "</table>\n",
       "</div>"
      ],
      "text/plain": [
       "      index            name  move  size move type render type  group min  \\\n",
       "0    goblin          Goblin     5     5     swarm        pack          5   \n",
       "1     tiger           Tiger    10     6     swarm       alone          1   \n",
       "2  scorpion  Giant Scorpion     3     8     swarm     scatter          1   \n",
       "3      yeti            Yeti     5    15     swarm       alone          1   \n",
       "4    raider          Raider     6    10     swarm        pack          2   \n",
       "\n",
       "   group max    color  \n",
       "0         10  #3E8E3E  \n",
       "1          1  #e08d3c  \n",
       "2          2  #716D6F  \n",
       "3          1  #a0d6b4  \n",
       "4          3  #4a3b29  "
      ]
     },
     "execution_count": 10,
     "metadata": {},
     "output_type": "execute_result"
    }
   ],
   "source": [
    "bdf.head()"
   ]
  },
  {
   "cell_type": "markdown",
   "metadata": {},
   "source": [
    "The details of the terrain are pulled up for the local area when it is rendered to the client, so I only need to know the types of terrain to be placed. Note that the terrain textures are included in the terrain details. The code is important as it will map the terrain to the specific details of that terrain."
   ]
  },
  {
   "cell_type": "code",
   "execution_count": 11,
   "metadata": {
    "collapsed": false
   },
   "outputs": [
    {
     "data": {
      "text/plain": [
       "{'Code': 'ds',\n",
       " 'Creature Probability': 0.1,\n",
       " 'Danger Level': 1,\n",
       " 'Description': 'a barren desert',\n",
       " 'Detailed Description': None,\n",
       " 'Terrain Textures': \"[         {'name':'Sand',         'abundance':300,         'density':5} ]\",\n",
       " 'Treasure Level': 1,\n",
       " 'Type': 'normal',\n",
       " 'Type Name': 'desert',\n",
       " 'creatures': 'scorpion'}"
      ]
     },
     "execution_count": 11,
     "metadata": {},
     "output_type": "execute_result"
    }
   ],
   "source": [
    "terrain['ds']"
   ]
  },
  {
   "cell_type": "code",
   "execution_count": 12,
   "metadata": {
    "collapsed": false
   },
   "outputs": [
    {
     "name": "stdout",
     "output_type": "stream",
     "text": [
      "ds  :  desert  :  a barren desert\n",
      "pl  :  plain  :  a grassy plain\n",
      "fo  :  forest  :  a quiet deciduous forest\n",
      "oa  :  oasis  :  an oasis\n",
      "ic  :  tundra  :  a tundra\n",
      "sw  :  swamp  :  a desolate swamp\n",
      "sa  :  savanna  :  a dry savana\n",
      "mt  :  mountain  :  a rugged mountain range\n"
     ]
    }
   ],
   "source": [
    "for t in list(terrain.keys()):\n",
    "    print(t, \" : \",terrain[t]['Type Name'],\" : \",terrain[t]['Description'])"
   ]
  },
  {
   "cell_type": "markdown",
   "metadata": {},
   "source": [
    "I'm keeping a space for \"special\" types of terrain. This way I can add quest destinations later on."
   ]
  },
  {
   "cell_type": "code",
   "execution_count": 16,
   "metadata": {
    "collapsed": false
   },
   "outputs": [
    {
     "data": {
      "text/plain": [
       "['ds', 'pl', 'fo', 'ic', 'sw', 'sa', 'mt']"
      ]
     },
     "execution_count": 16,
     "metadata": {},
     "output_type": "execute_result"
    }
   ],
   "source": [
    "terrain_types = [t for t in list(terrain.keys()) if terrain[t]['Type']=='normal']\n",
    "terrain_types"
   ]
  },
  {
   "cell_type": "markdown",
   "metadata": {},
   "source": [
    "## Building a world: create a square and fill it up. \n",
    "The game starts with a lot of blank spaces, when you reach one side of the earth you are automatically placed on the other side so this world appears spherical as you travel from area to area. \n",
    "\n",
    "[you can see how the code is executed on the server here](https://github.com/BillmanH/Flask-Game-Front-End/blob/master/backend/MapData_RandomlyGenerateMap.py)"
   ]
  },
  {
   "cell_type": "code",
   "execution_count": 47,
   "metadata": {
    "collapsed": false
   },
   "outputs": [
    {
     "data": {
      "text/html": [
       "<div>\n",
       "<table border=\"1\" class=\"dataframe\">\n",
       "  <thead>\n",
       "    <tr style=\"text-align: right;\">\n",
       "      <th></th>\n",
       "      <th>0</th>\n",
       "      <th>1</th>\n",
       "      <th>2</th>\n",
       "      <th>3</th>\n",
       "      <th>4</th>\n",
       "      <th>5</th>\n",
       "      <th>6</th>\n",
       "      <th>7</th>\n",
       "      <th>8</th>\n",
       "      <th>9</th>\n",
       "    </tr>\n",
       "  </thead>\n",
       "  <tbody>\n",
       "    <tr>\n",
       "      <th>0</th>\n",
       "      <td>NaN</td>\n",
       "      <td>NaN</td>\n",
       "      <td>NaN</td>\n",
       "      <td>NaN</td>\n",
       "      <td>NaN</td>\n",
       "      <td>NaN</td>\n",
       "      <td>NaN</td>\n",
       "      <td>NaN</td>\n",
       "      <td>NaN</td>\n",
       "      <td>NaN</td>\n",
       "    </tr>\n",
       "    <tr>\n",
       "      <th>1</th>\n",
       "      <td>NaN</td>\n",
       "      <td>NaN</td>\n",
       "      <td>NaN</td>\n",
       "      <td>NaN</td>\n",
       "      <td>NaN</td>\n",
       "      <td>NaN</td>\n",
       "      <td>NaN</td>\n",
       "      <td>NaN</td>\n",
       "      <td>NaN</td>\n",
       "      <td>NaN</td>\n",
       "    </tr>\n",
       "    <tr>\n",
       "      <th>2</th>\n",
       "      <td>NaN</td>\n",
       "      <td>NaN</td>\n",
       "      <td>NaN</td>\n",
       "      <td>NaN</td>\n",
       "      <td>NaN</td>\n",
       "      <td>NaN</td>\n",
       "      <td>NaN</td>\n",
       "      <td>NaN</td>\n",
       "      <td>NaN</td>\n",
       "      <td>NaN</td>\n",
       "    </tr>\n",
       "    <tr>\n",
       "      <th>3</th>\n",
       "      <td>NaN</td>\n",
       "      <td>NaN</td>\n",
       "      <td>NaN</td>\n",
       "      <td>NaN</td>\n",
       "      <td>NaN</td>\n",
       "      <td>NaN</td>\n",
       "      <td>NaN</td>\n",
       "      <td>NaN</td>\n",
       "      <td>NaN</td>\n",
       "      <td>NaN</td>\n",
       "    </tr>\n",
       "    <tr>\n",
       "      <th>4</th>\n",
       "      <td>NaN</td>\n",
       "      <td>NaN</td>\n",
       "      <td>NaN</td>\n",
       "      <td>NaN</td>\n",
       "      <td>NaN</td>\n",
       "      <td>NaN</td>\n",
       "      <td>NaN</td>\n",
       "      <td>NaN</td>\n",
       "      <td>NaN</td>\n",
       "      <td>NaN</td>\n",
       "    </tr>\n",
       "    <tr>\n",
       "      <th>5</th>\n",
       "      <td>NaN</td>\n",
       "      <td>NaN</td>\n",
       "      <td>NaN</td>\n",
       "      <td>NaN</td>\n",
       "      <td>NaN</td>\n",
       "      <td>NaN</td>\n",
       "      <td>NaN</td>\n",
       "      <td>NaN</td>\n",
       "      <td>NaN</td>\n",
       "      <td>NaN</td>\n",
       "    </tr>\n",
       "    <tr>\n",
       "      <th>6</th>\n",
       "      <td>NaN</td>\n",
       "      <td>NaN</td>\n",
       "      <td>NaN</td>\n",
       "      <td>NaN</td>\n",
       "      <td>NaN</td>\n",
       "      <td>NaN</td>\n",
       "      <td>NaN</td>\n",
       "      <td>NaN</td>\n",
       "      <td>NaN</td>\n",
       "      <td>NaN</td>\n",
       "    </tr>\n",
       "    <tr>\n",
       "      <th>7</th>\n",
       "      <td>NaN</td>\n",
       "      <td>NaN</td>\n",
       "      <td>NaN</td>\n",
       "      <td>NaN</td>\n",
       "      <td>NaN</td>\n",
       "      <td>NaN</td>\n",
       "      <td>NaN</td>\n",
       "      <td>NaN</td>\n",
       "      <td>NaN</td>\n",
       "      <td>NaN</td>\n",
       "    </tr>\n",
       "    <tr>\n",
       "      <th>8</th>\n",
       "      <td>NaN</td>\n",
       "      <td>NaN</td>\n",
       "      <td>NaN</td>\n",
       "      <td>NaN</td>\n",
       "      <td>NaN</td>\n",
       "      <td>NaN</td>\n",
       "      <td>NaN</td>\n",
       "      <td>NaN</td>\n",
       "      <td>NaN</td>\n",
       "      <td>NaN</td>\n",
       "    </tr>\n",
       "    <tr>\n",
       "      <th>9</th>\n",
       "      <td>NaN</td>\n",
       "      <td>NaN</td>\n",
       "      <td>NaN</td>\n",
       "      <td>NaN</td>\n",
       "      <td>NaN</td>\n",
       "      <td>NaN</td>\n",
       "      <td>NaN</td>\n",
       "      <td>NaN</td>\n",
       "      <td>NaN</td>\n",
       "      <td>NaN</td>\n",
       "    </tr>\n",
       "  </tbody>\n",
       "</table>\n",
       "</div>"
      ],
      "text/plain": [
       "     0    1    2    3    4    5    6    7    8    9\n",
       "0  NaN  NaN  NaN  NaN  NaN  NaN  NaN  NaN  NaN  NaN\n",
       "1  NaN  NaN  NaN  NaN  NaN  NaN  NaN  NaN  NaN  NaN\n",
       "2  NaN  NaN  NaN  NaN  NaN  NaN  NaN  NaN  NaN  NaN\n",
       "3  NaN  NaN  NaN  NaN  NaN  NaN  NaN  NaN  NaN  NaN\n",
       "4  NaN  NaN  NaN  NaN  NaN  NaN  NaN  NaN  NaN  NaN\n",
       "5  NaN  NaN  NaN  NaN  NaN  NaN  NaN  NaN  NaN  NaN\n",
       "6  NaN  NaN  NaN  NaN  NaN  NaN  NaN  NaN  NaN  NaN\n",
       "7  NaN  NaN  NaN  NaN  NaN  NaN  NaN  NaN  NaN  NaN\n",
       "8  NaN  NaN  NaN  NaN  NaN  NaN  NaN  NaN  NaN  NaN\n",
       "9  NaN  NaN  NaN  NaN  NaN  NaN  NaN  NaN  NaN  NaN"
      ]
     },
     "execution_count": 47,
     "metadata": {},
     "output_type": "execute_result"
    }
   ],
   "source": [
    "grid = [10,10]\n",
    "df = pd.DataFrame(columns=range(grid[1]),index=range(grid[0]))\n",
    "dfMeta = {}\n",
    "df"
   ]
  },
  {
   "cell_type": "markdown",
   "metadata": {},
   "source": [
    "## Filling that grid with values\n",
    "Then you go square by square and place random terrain until it is filled up. This is currently done synchronously so 10X10 is about as large as I want for a starting world. Later on I'll add an asynchronous request to build a much larger world. I'll probably use that as my free-paid tier barrier. "
   ]
  },
  {
   "cell_type": "code",
   "execution_count": 48,
   "metadata": {
    "collapsed": false
   },
   "outputs": [],
   "source": [
    "def get_random_chord(df):\n",
    "    x = np.random.choice(df[df.isnull().any(axis=0)].index.tolist(),1)[0]\n",
    "    y = np.random.choice(df[df.isnull().any(axis=1)].index.tolist(),1)[0]\n",
    "    coord = [x,y]\n",
    "    return coord\n",
    "\n",
    "def count_remaining_na():\n",
    "    num = sum([df[[n]].isnull().sum().tolist()[0] for n in df.columns])\n",
    "    return num\n",
    "\n",
    "def listBlankSpaces():\n",
    "    places = df.T.to_dict()\n",
    "    blankPlaces = []\n",
    "    for x in places.keys():\n",
    "        for y in places[x].keys():\n",
    "            if pd.isnull(places[x][y]):\n",
    "                #print(places[x][y],\"is not a string\")\n",
    "                blankPlaces.append([x,y])\n",
    "    return blankPlaces\n",
    "\n",
    "def place_terrain(coord):\n",
    "    t_type = np.random.choice(terrain_types,1)[0]\n",
    "    df.loc[coord[0],coord[1]] = t_type\n",
    "    return df\n",
    "\n",
    "def getMostCommonTerrain(coord):\n",
    "    neighbors = []\n",
    "    #one for each neighboring spot\n",
    "    try:\n",
    "        neighbors.append(df.loc[coord[0]+1,coord[1]+1])\n",
    "    except:\n",
    "        pass\n",
    "    try:    \n",
    "        neighbors.append(df.loc[coord[0],coord[1]+1])\n",
    "    except:\n",
    "        pass\n",
    "    try:\n",
    "        neighbors.append(df.loc[coord[0]-1,coord[1]+1])\n",
    "    except:\n",
    "        pass\n",
    "    try:\n",
    "        neighbors.append(df.loc[coord[0]+1,coord[1]])\n",
    "    except:\n",
    "        pass\n",
    "    try:\n",
    "        neighbors.append(df.loc[coord[0]-1,coord[1]])\n",
    "    except:\n",
    "        pass\n",
    "    try:\n",
    "        neighbors.append(df.loc[coord[0]+1,coord[1]-1])\n",
    "    except:\n",
    "        pass\n",
    "    try:\n",
    "        neighbors.append(df.loc[coord[0],coord[1]-1])\n",
    "    except:\n",
    "        pass\n",
    "    try:\n",
    "        neighbors.append(df.loc[coord[0]-1,coord[1]-1])\n",
    "    except:\n",
    "        pass\n",
    "    #find the terrainthat is most abundant\n",
    "    try:\n",
    "        neighbors = [neigh for neigh in neighbors if neigh in terrain_types]  #removing nan and things that aren't terrain types\n",
    "        mostCommon = neighbors[np.argmax(np.unique(neighbors,return_counts=True))]\n",
    "        if np.argmax(np.unique(neighbors,return_counts=True))>1:\n",
    "            t = mostCommon\n",
    "        else:\n",
    "            t = np.random.choice(terrain_types,1)[0]\n",
    "    except:\n",
    "        t = np.random.choice(terrain_types,1)[0]\n",
    "    return t\n",
    "\n",
    "def place_best_terrain(coord):\n",
    "    t = getMostCommonTerrain(coord)\n",
    "    if t in list(dfMeta.keys()):\n",
    "        dfMeta[t] = dfMeta[t] + 1\n",
    "    else:\n",
    "        dfMeta[t] = 1\n",
    "    df.loc[coord[0],coord[1]] = t\n",
    "    return df\n",
    "\n",
    "def place_specific_terrain(t,coord):\n",
    "    df.loc[coord[0],coord[1]] = t\n",
    "    return df\n",
    "\n",
    "def get_current_terrain(coord):\n",
    "    ter = df.ix[coord[0],coord[1]]\n",
    "    return ter\n",
    "\n",
    "\n",
    "def find_blank_neighbor(coord):\n",
    "    taken = [[-1,-1]]\n",
    "    while len(taken)<8:\n",
    "        if check_if_coord_is_na(coord):\n",
    "            return coord\n",
    "        else:\n",
    "            coord,taken = find_neighboring_spot(coord,taken)\n",
    "    return [[-1,-1]]\n",
    "    pass"
   ]
  },
  {
   "cell_type": "markdown",
   "metadata": {},
   "source": [
    "Terrain detail is loaded independently so there is no need for that level of detail here. We only need to place the location code and terrain for that area. \n",
    "* Create terrain in steps:\n",
    "    * Choose random spot from a list of remaining blank spots\n",
    "    * Get a list of all of the terrain in neighboring areas\n",
    "        * Place terrain that occurs most commonly in that area\n",
    "        * If most of the neighboring terrain is blank, choose a terrain randomly\n",
    "        * Place the chosen terrain in that spot"
   ]
  },
  {
   "cell_type": "code",
   "execution_count": 49,
   "metadata": {
    "collapsed": false,
    "scrolled": true
   },
   "outputs": [],
   "source": [
    "while count_remaining_na() > 0:\n",
    "    #print(count_remaining_na(),coord)\n",
    "    blanks = listBlankSpaces()\n",
    "    coord = blanks[np.random.choice(len(blanks))]\n",
    "    place_best_terrain(coord)"
   ]
  },
  {
   "cell_type": "code",
   "execution_count": 50,
   "metadata": {
    "collapsed": false
   },
   "outputs": [
    {
     "data": {
      "text/html": [
       "<div>\n",
       "<table border=\"1\" class=\"dataframe\">\n",
       "  <thead>\n",
       "    <tr style=\"text-align: right;\">\n",
       "      <th></th>\n",
       "      <th>0</th>\n",
       "      <th>1</th>\n",
       "      <th>2</th>\n",
       "      <th>3</th>\n",
       "      <th>4</th>\n",
       "      <th>5</th>\n",
       "      <th>6</th>\n",
       "      <th>7</th>\n",
       "      <th>8</th>\n",
       "      <th>9</th>\n",
       "    </tr>\n",
       "  </thead>\n",
       "  <tbody>\n",
       "    <tr>\n",
       "      <th>0</th>\n",
       "      <td>mt</td>\n",
       "      <td>pl</td>\n",
       "      <td>pl</td>\n",
       "      <td>ds</td>\n",
       "      <td>ds</td>\n",
       "      <td>mt</td>\n",
       "      <td>mt</td>\n",
       "      <td>sa</td>\n",
       "      <td>ic</td>\n",
       "      <td>pl</td>\n",
       "    </tr>\n",
       "    <tr>\n",
       "      <th>1</th>\n",
       "      <td>pl</td>\n",
       "      <td>pl</td>\n",
       "      <td>pl</td>\n",
       "      <td>sa</td>\n",
       "      <td>ds</td>\n",
       "      <td>ds</td>\n",
       "      <td>mt</td>\n",
       "      <td>ic</td>\n",
       "      <td>fo</td>\n",
       "      <td>ic</td>\n",
       "    </tr>\n",
       "    <tr>\n",
       "      <th>2</th>\n",
       "      <td>sw</td>\n",
       "      <td>pl</td>\n",
       "      <td>pl</td>\n",
       "      <td>pl</td>\n",
       "      <td>pl</td>\n",
       "      <td>fo</td>\n",
       "      <td>ic</td>\n",
       "      <td>fo</td>\n",
       "      <td>ds</td>\n",
       "      <td>mt</td>\n",
       "    </tr>\n",
       "    <tr>\n",
       "      <th>3</th>\n",
       "      <td>mt</td>\n",
       "      <td>ds</td>\n",
       "      <td>pl</td>\n",
       "      <td>sw</td>\n",
       "      <td>ds</td>\n",
       "      <td>ic</td>\n",
       "      <td>ic</td>\n",
       "      <td>ds</td>\n",
       "      <td>ds</td>\n",
       "      <td>ds</td>\n",
       "    </tr>\n",
       "    <tr>\n",
       "      <th>4</th>\n",
       "      <td>sw</td>\n",
       "      <td>sw</td>\n",
       "      <td>sw</td>\n",
       "      <td>ds</td>\n",
       "      <td>fo</td>\n",
       "      <td>mt</td>\n",
       "      <td>ic</td>\n",
       "      <td>pl</td>\n",
       "      <td>ic</td>\n",
       "      <td>fo</td>\n",
       "    </tr>\n",
       "    <tr>\n",
       "      <th>5</th>\n",
       "      <td>ds</td>\n",
       "      <td>pl</td>\n",
       "      <td>sw</td>\n",
       "      <td>sw</td>\n",
       "      <td>mt</td>\n",
       "      <td>mt</td>\n",
       "      <td>pl</td>\n",
       "      <td>pl</td>\n",
       "      <td>pl</td>\n",
       "      <td>fo</td>\n",
       "    </tr>\n",
       "    <tr>\n",
       "      <th>6</th>\n",
       "      <td>ds</td>\n",
       "      <td>fo</td>\n",
       "      <td>fo</td>\n",
       "      <td>sw</td>\n",
       "      <td>fo</td>\n",
       "      <td>mt</td>\n",
       "      <td>pl</td>\n",
       "      <td>ic</td>\n",
       "      <td>pl</td>\n",
       "      <td>sw</td>\n",
       "    </tr>\n",
       "    <tr>\n",
       "      <th>7</th>\n",
       "      <td>fo</td>\n",
       "      <td>fo</td>\n",
       "      <td>fo</td>\n",
       "      <td>mt</td>\n",
       "      <td>mt</td>\n",
       "      <td>sw</td>\n",
       "      <td>sw</td>\n",
       "      <td>sw</td>\n",
       "      <td>sw</td>\n",
       "      <td>pl</td>\n",
       "    </tr>\n",
       "    <tr>\n",
       "      <th>8</th>\n",
       "      <td>fo</td>\n",
       "      <td>ic</td>\n",
       "      <td>fo</td>\n",
       "      <td>sa</td>\n",
       "      <td>pl</td>\n",
       "      <td>sw</td>\n",
       "      <td>sw</td>\n",
       "      <td>sw</td>\n",
       "      <td>fo</td>\n",
       "      <td>sa</td>\n",
       "    </tr>\n",
       "    <tr>\n",
       "      <th>9</th>\n",
       "      <td>fo</td>\n",
       "      <td>ic</td>\n",
       "      <td>sa</td>\n",
       "      <td>sa</td>\n",
       "      <td>ic</td>\n",
       "      <td>mt</td>\n",
       "      <td>mt</td>\n",
       "      <td>sw</td>\n",
       "      <td>sw</td>\n",
       "      <td>ic</td>\n",
       "    </tr>\n",
       "  </tbody>\n",
       "</table>\n",
       "</div>"
      ],
      "text/plain": [
       "    0   1   2   3   4   5   6   7   8   9\n",
       "0  mt  pl  pl  ds  ds  mt  mt  sa  ic  pl\n",
       "1  pl  pl  pl  sa  ds  ds  mt  ic  fo  ic\n",
       "2  sw  pl  pl  pl  pl  fo  ic  fo  ds  mt\n",
       "3  mt  ds  pl  sw  ds  ic  ic  ds  ds  ds\n",
       "4  sw  sw  sw  ds  fo  mt  ic  pl  ic  fo\n",
       "5  ds  pl  sw  sw  mt  mt  pl  pl  pl  fo\n",
       "6  ds  fo  fo  sw  fo  mt  pl  ic  pl  sw\n",
       "7  fo  fo  fo  mt  mt  sw  sw  sw  sw  pl\n",
       "8  fo  ic  fo  sa  pl  sw  sw  sw  fo  sa\n",
       "9  fo  ic  sa  sa  ic  mt  mt  sw  sw  ic"
      ]
     },
     "execution_count": 50,
     "metadata": {},
     "output_type": "execute_result"
    }
   ],
   "source": [
    "df"
   ]
  },
  {
   "cell_type": "markdown",
   "metadata": {},
   "source": [
    "## Data about the world: \n",
    "I'm creating a separate dataset of metadata for that world. Eventually I might build out something that allows users the ability to tweak the parameters of the world and thus change the experience. "
   ]
  },
  {
   "cell_type": "code",
   "execution_count": 51,
   "metadata": {
    "collapsed": false
   },
   "outputs": [
    {
     "data": {
      "text/plain": [
       "{'ds': 13, 'fo': 16, 'ic': 13, 'mt': 14, 'pl': 20, 'sa': 6, 'sw': 18}"
      ]
     },
     "execution_count": 51,
     "metadata": {},
     "output_type": "execute_result"
    }
   ],
   "source": [
    "dfMeta"
   ]
  },
  {
   "cell_type": "code",
   "execution_count": 52,
   "metadata": {
    "collapsed": false
   },
   "outputs": [],
   "source": [
    "meta = pd.DataFrame(dfMeta,index=[\"quantity\"]).T\n",
    "meta[\"percent of world\"] = meta[\"quantity\"]/meta.quantity.sum()\n",
    "meta['id'] = meta.index\n",
    "meta.index = [terrain[x]['Type Name'] for x in meta.index]"
   ]
  },
  {
   "cell_type": "code",
   "execution_count": 53,
   "metadata": {
    "collapsed": false
   },
   "outputs": [
    {
     "data": {
      "text/html": [
       "<div>\n",
       "<table border=\"1\" class=\"dataframe\">\n",
       "  <thead>\n",
       "    <tr style=\"text-align: right;\">\n",
       "      <th></th>\n",
       "      <th>quantity</th>\n",
       "      <th>percent of world</th>\n",
       "      <th>id</th>\n",
       "    </tr>\n",
       "  </thead>\n",
       "  <tbody>\n",
       "    <tr>\n",
       "      <th>desert</th>\n",
       "      <td>13</td>\n",
       "      <td>0.13</td>\n",
       "      <td>ds</td>\n",
       "    </tr>\n",
       "    <tr>\n",
       "      <th>forest</th>\n",
       "      <td>16</td>\n",
       "      <td>0.16</td>\n",
       "      <td>fo</td>\n",
       "    </tr>\n",
       "    <tr>\n",
       "      <th>tundra</th>\n",
       "      <td>13</td>\n",
       "      <td>0.13</td>\n",
       "      <td>ic</td>\n",
       "    </tr>\n",
       "    <tr>\n",
       "      <th>mountain</th>\n",
       "      <td>14</td>\n",
       "      <td>0.14</td>\n",
       "      <td>mt</td>\n",
       "    </tr>\n",
       "    <tr>\n",
       "      <th>plain</th>\n",
       "      <td>20</td>\n",
       "      <td>0.20</td>\n",
       "      <td>pl</td>\n",
       "    </tr>\n",
       "    <tr>\n",
       "      <th>savanna</th>\n",
       "      <td>6</td>\n",
       "      <td>0.06</td>\n",
       "      <td>sa</td>\n",
       "    </tr>\n",
       "    <tr>\n",
       "      <th>swamp</th>\n",
       "      <td>18</td>\n",
       "      <td>0.18</td>\n",
       "      <td>sw</td>\n",
       "    </tr>\n",
       "  </tbody>\n",
       "</table>\n",
       "</div>"
      ],
      "text/plain": [
       "          quantity  percent of world  id\n",
       "desert          13              0.13  ds\n",
       "forest          16              0.16  fo\n",
       "tundra          13              0.13  ic\n",
       "mountain        14              0.14  mt\n",
       "plain           20              0.20  pl\n",
       "savanna          6              0.06  sa\n",
       "swamp           18              0.18  sw"
      ]
     },
     "execution_count": 53,
     "metadata": {},
     "output_type": "execute_result"
    }
   ],
   "source": [
    "meta"
   ]
  },
  {
   "cell_type": "markdown",
   "metadata": {},
   "source": [
    "## Once the map is drawn it must be converted back to JSON\n",
    "Terrain attriutes must be added to each item. \n",
    "\n",
    "Each account gets two distinct files, one character and one map. They map together with a common key so that each player is only playing on thier map. \n"
   ]
  },
  {
   "cell_type": "code",
   "execution_count": 54,
   "metadata": {
    "collapsed": true
   },
   "outputs": [],
   "source": [
    "UserID = \"william.jeffrey.harding@gmail.com\"  #must map back to a character, otherwise you will never see it. \n",
    "worldMap = {}"
   ]
  },
  {
   "cell_type": "code",
   "execution_count": 55,
   "metadata": {
    "collapsed": false
   },
   "outputs": [],
   "source": [
    "for x in range(grid[0]):\n",
    "    for y in range(grid[1]):\n",
    "        worldMap[str(x)+\":\"+str(y)] = {\"Terrain Code\":df.loc[y,x],\n",
    "                                      \"y\":y,\"x\":x}"
   ]
  },
  {
   "cell_type": "markdown",
   "metadata": {},
   "source": [
    "In order to keep the frame as light as possible, I'm only exporting the coordinates and the terrain code. Terrain details are loaded at runtime, only for elements that are being deployed.[you can see this in action here](https://github.com/BillmanH/Flask-Game-Front-End/blob/master/backend/BOTO_functions.py)"
   ]
  },
  {
   "cell_type": "code",
   "execution_count": 46,
   "metadata": {
    "collapsed": false
   },
   "outputs": [
    {
     "name": "stdout",
     "output_type": "stream",
     "text": [
      "{'Terrain Code': 'pl', 'y': 1, 'x': 0} {'Terrain Code': 'pl', 'y': 2, 'x': 0} {'Terrain Code': 'mt', 'y': 3, 'x': 0} {'Terrain Code': 'ds', 'y': 4, 'x': 0}\n"
     ]
    }
   ],
   "source": [
    "print(worldMap['0:1'],\n",
    "     worldMap['0:2'],\n",
    "     worldMap['0:3'],\n",
    "     worldMap['0:4'])"
   ]
  },
  {
   "cell_type": "markdown",
   "metadata": {},
   "source": [
    "## Adding creatures\n",
    "This feature really isn't ready. I'm just starting to POC this feature in Jupyter notebooks now. However, you can see that there is a consistent organization of json objects where:\n",
    "* Each region has terrain\n",
    "* Each terrain has both terrain textures and monsters\n",
    "* The properties of the feature is in the json, the business logic is in the Javascript\n",
    "\n",
    "TODO:\n",
    "* add google doc sheet for monsters\n",
    "* add insert monsters into terrain\n",
    "\n",
    "currently working with only one kind of monster:"
   ]
  },
  {
   "cell_type": "code",
   "execution_count": 58,
   "metadata": {
    "collapsed": false
   },
   "outputs": [
    {
     "data": {
      "text/html": [
       "<div>\n",
       "<table border=\"1\" class=\"dataframe\">\n",
       "  <thead>\n",
       "    <tr style=\"text-align: right;\">\n",
       "      <th></th>\n",
       "      <th>index</th>\n",
       "      <th>name</th>\n",
       "      <th>move</th>\n",
       "      <th>size</th>\n",
       "      <th>move type</th>\n",
       "      <th>render type</th>\n",
       "      <th>group min</th>\n",
       "      <th>group max</th>\n",
       "      <th>color</th>\n",
       "    </tr>\n",
       "  </thead>\n",
       "  <tbody>\n",
       "    <tr>\n",
       "      <th>0</th>\n",
       "      <td>goblin</td>\n",
       "      <td>Goblin</td>\n",
       "      <td>5</td>\n",
       "      <td>5</td>\n",
       "      <td>swarm</td>\n",
       "      <td>pack</td>\n",
       "      <td>5</td>\n",
       "      <td>10</td>\n",
       "      <td>#3E8E3E</td>\n",
       "    </tr>\n",
       "    <tr>\n",
       "      <th>1</th>\n",
       "      <td>tiger</td>\n",
       "      <td>Tiger</td>\n",
       "      <td>10</td>\n",
       "      <td>6</td>\n",
       "      <td>swarm</td>\n",
       "      <td>alone</td>\n",
       "      <td>1</td>\n",
       "      <td>1</td>\n",
       "      <td>#e08d3c</td>\n",
       "    </tr>\n",
       "    <tr>\n",
       "      <th>2</th>\n",
       "      <td>scorpion</td>\n",
       "      <td>Giant Scorpion</td>\n",
       "      <td>3</td>\n",
       "      <td>8</td>\n",
       "      <td>swarm</td>\n",
       "      <td>scatter</td>\n",
       "      <td>1</td>\n",
       "      <td>2</td>\n",
       "      <td>#716D6F</td>\n",
       "    </tr>\n",
       "    <tr>\n",
       "      <th>3</th>\n",
       "      <td>yeti</td>\n",
       "      <td>Yeti</td>\n",
       "      <td>5</td>\n",
       "      <td>15</td>\n",
       "      <td>swarm</td>\n",
       "      <td>alone</td>\n",
       "      <td>1</td>\n",
       "      <td>1</td>\n",
       "      <td>#a0d6b4</td>\n",
       "    </tr>\n",
       "    <tr>\n",
       "      <th>4</th>\n",
       "      <td>raider</td>\n",
       "      <td>Raider</td>\n",
       "      <td>6</td>\n",
       "      <td>10</td>\n",
       "      <td>swarm</td>\n",
       "      <td>pack</td>\n",
       "      <td>2</td>\n",
       "      <td>3</td>\n",
       "      <td>#4a3b29</td>\n",
       "    </tr>\n",
       "  </tbody>\n",
       "</table>\n",
       "</div>"
      ],
      "text/plain": [
       "      index            name  move  size move type render type  group min  \\\n",
       "0    goblin          Goblin     5     5     swarm        pack          5   \n",
       "1     tiger           Tiger    10     6     swarm       alone          1   \n",
       "2  scorpion  Giant Scorpion     3     8     swarm     scatter          1   \n",
       "3      yeti            Yeti     5    15     swarm       alone          1   \n",
       "4    raider          Raider     6    10     swarm        pack          2   \n",
       "\n",
       "   group max    color  \n",
       "0         10  #3E8E3E  \n",
       "1          1  #e08d3c  \n",
       "2          2  #716D6F  \n",
       "3          1  #a0d6b4  \n",
       "4          3  #4a3b29  "
      ]
     },
     "execution_count": 58,
     "metadata": {},
     "output_type": "execute_result"
    }
   ],
   "source": [
    "bdf.head()"
   ]
  },
  {
   "cell_type": "code",
   "execution_count": 59,
   "metadata": {
    "collapsed": false
   },
   "outputs": [],
   "source": [
    "def addCreaturesToMap(worldMap,terrain):\n",
    "    for k in worldMap.keys():\n",
    "        tk = worldMap[k]['Terrain Code']"
   ]
  },
  {
   "cell_type": "code",
   "execution_count": 60,
   "metadata": {
    "collapsed": false
   },
   "outputs": [
    {
     "data": {
      "text/plain": [
       "('2:2',\n",
       " {'Code': 'pl',\n",
       "  'Creature Probability': 0.1,\n",
       "  'Danger Level': 2,\n",
       "  'Description': 'a grassy plain',\n",
       "  'Detailed Description': None,\n",
       "  'Terrain Textures': \"[         {'name':'Grass',         'abundance':150,         'density':5},          {'name':'Rock',         'abundance':5,         'density':5} ]\",\n",
       "  'Treasure Level': 2,\n",
       "  'Type': 'normal',\n",
       "  'Type Name': 'plain',\n",
       "  'creatures': 'tiger'})"
      ]
     },
     "execution_count": 60,
     "metadata": {},
     "output_type": "execute_result"
    }
   ],
   "source": [
    "k = list(worldMap.keys())[1]\n",
    "tk = worldMap[k]['Terrain Code']\n",
    "k,terrain[tk]"
   ]
  },
  {
   "cell_type": "code",
   "execution_count": 61,
   "metadata": {
    "collapsed": false
   },
   "outputs": [
    {
     "data": {
      "text/plain": [
       "0.1"
      ]
     },
     "execution_count": 61,
     "metadata": {},
     "output_type": "execute_result"
    }
   ],
   "source": [
    "terrain[tk]['Creature Probability']"
   ]
  },
  {
   "cell_type": "code",
   "execution_count": 1,
   "metadata": {
    "collapsed": true
   },
   "outputs": [
    {
     "ename": "NameError",
     "evalue": "name 'k' is not defined",
     "output_type": "error",
     "traceback": [
      "\u001b[0;31m---------------------------------------------------------------------------\u001b[0m",
      "\u001b[0;31mNameError\u001b[0m                                 Traceback (most recent call last)",
      "\u001b[0;32m<ipython-input-1-141b3ea3f03f>\u001b[0m in \u001b[0;36m<module>\u001b[0;34m()\u001b[0m\n\u001b[0;32m----> 1\u001b[0;31m \u001b[0mk\u001b[0m\u001b[0;34m\u001b[0m\u001b[0m\n\u001b[0m",
      "\u001b[0;31mNameError\u001b[0m: name 'k' is not defined"
     ]
    }
   ],
   "source": []
  },
  {
   "cell_type": "code",
   "execution_count": null,
   "metadata": {},
   "outputs": [],
   "source": []
  }
 ],
 "metadata": {
  "anaconda-cloud": {},
  "kernelspec": {
   "display_name": "Python 3",
   "language": "python",
   "name": "python3"
  },
  "language_info": {
   "codemirror_mode": {
    "name": "ipython",
    "version": 3
   },
   "file_extension": ".py",
   "mimetype": "text/x-python",
   "name": "python",
   "nbconvert_exporter": "python",
   "pygments_lexer": "ipython3",
   "version": "3.6.4"
  }
 },
 "nbformat": 4,
 "nbformat_minor": 2
}
